{
 "cells": [
  {
   "cell_type": "markdown",
   "id": "d1ca013b",
   "metadata": {},
   "source": [
    "# Types Quiz"
   ]
  },
  {
   "cell_type": "markdown",
   "id": "37b4d9fc",
   "metadata": {},
   "source": [
    "## Decomposition\n"
   ]
  },
  {
   "cell_type": "code",
   "execution_count": null,
   "id": "28bf4b42",
   "metadata": {},
   "outputs": [],
   "source": [
    "# draw shape of some size (x?)\n",
    "\n",
    "\n",
    "# draw some number of random shapes in random positions with a random caption\n",
    "\n",
    "    # draw some number of random shapes\n",
    "        # pick a random shape to draw\n",
    "        # get random position\n",
    "            # get a random number for x value\n",
    "            # get a random number for y value\n",
    "        # draw the random shape\n",
    "        \n",
    "    # add a random caption to the screen\n",
    "        # define the paramaters of the caption we want (num words, num lines, type of caption)\n",
    "        # generate a random caption using the parameters\n",
    "        # pick a position for the random caption\n",
    "        # Put the caption on the screen at the position using the Turtle"
   ]
  },
  {
   "cell_type": "markdown",
   "id": "d9608509",
   "metadata": {},
   "source": [
    "## Error fixing\n"
   ]
  },
  {
   "cell_type": "code",
   "execution_count": 29,
   "id": "ee43be08",
   "metadata": {},
   "outputs": [],
   "source": [
    "def only_numbers(better_be_a_number):\n",
    "    assert isinstance(better_be_a_number, float) or isinstance(better_be_a_number, int)\n",
    "    print(\"I can confirm that this is a number: \")\n",
    "    print(better_be_a_number)"
   ]
  },
  {
   "cell_type": "code",
   "execution_count": 30,
   "id": "4514b9a2",
   "metadata": {},
   "outputs": [
    {
     "ename": "AssertionError",
     "evalue": "",
     "output_type": "error",
     "traceback": [
      "\u001b[0;31m---------------------------------------------------------------------------\u001b[0m",
      "\u001b[0;31mAssertionError\u001b[0m                            Traceback (most recent call last)",
      "\u001b[0;32m/var/folders/gw/zzdm1k1s4czgdmpvkm7g_0q80000gn/T/ipykernel_1506/3700021880.py\u001b[0m in \u001b[0;36m<module>\u001b[0;34m\u001b[0m\n\u001b[0;32m----> 1\u001b[0;31m \u001b[0monly_numbers\u001b[0m\u001b[0;34m(\u001b[0m\u001b[0;34m\"not a number\"\u001b[0m\u001b[0;34m)\u001b[0m\u001b[0;34m\u001b[0m\u001b[0;34m\u001b[0m\u001b[0m\n\u001b[0m",
      "\u001b[0;32m/var/folders/gw/zzdm1k1s4czgdmpvkm7g_0q80000gn/T/ipykernel_1506/3914166203.py\u001b[0m in \u001b[0;36monly_numbers\u001b[0;34m(better_be_a_number)\u001b[0m\n\u001b[1;32m      1\u001b[0m \u001b[0;32mdef\u001b[0m \u001b[0monly_numbers\u001b[0m\u001b[0;34m(\u001b[0m\u001b[0mbetter_be_a_number\u001b[0m\u001b[0;34m)\u001b[0m\u001b[0;34m:\u001b[0m\u001b[0;34m\u001b[0m\u001b[0;34m\u001b[0m\u001b[0m\n\u001b[0;32m----> 2\u001b[0;31m     \u001b[0;32massert\u001b[0m \u001b[0misinstance\u001b[0m\u001b[0;34m(\u001b[0m\u001b[0mbetter_be_a_number\u001b[0m\u001b[0;34m,\u001b[0m \u001b[0mfloat\u001b[0m \u001b[0;32mor\u001b[0m \u001b[0mint\u001b[0m\u001b[0;34m)\u001b[0m\u001b[0;34m\u001b[0m\u001b[0;34m\u001b[0m\u001b[0m\n\u001b[0m\u001b[1;32m      3\u001b[0m     \u001b[0mprint\u001b[0m\u001b[0;34m(\u001b[0m\u001b[0;34m\"I can confirm that this is a number: \"\u001b[0m\u001b[0;34m)\u001b[0m\u001b[0;34m\u001b[0m\u001b[0;34m\u001b[0m\u001b[0m\n\u001b[1;32m      4\u001b[0m     \u001b[0mprint\u001b[0m\u001b[0;34m(\u001b[0m\u001b[0mbetter_be_a_number\u001b[0m\u001b[0;34m)\u001b[0m\u001b[0;34m\u001b[0m\u001b[0;34m\u001b[0m\u001b[0m\n",
      "\u001b[0;31mAssertionError\u001b[0m: "
     ]
    }
   ],
   "source": [
    "only_numbers(\"not a number\")"
   ]
  },
  {
   "cell_type": "code",
   "execution_count": 31,
   "id": "3bc6e45e",
   "metadata": {},
   "outputs": [
    {
     "ename": "AssertionError",
     "evalue": "",
     "output_type": "error",
     "traceback": [
      "\u001b[0;31m---------------------------------------------------------------------------\u001b[0m",
      "\u001b[0;31mAssertionError\u001b[0m                            Traceback (most recent call last)",
      "\u001b[0;32m/var/folders/gw/zzdm1k1s4czgdmpvkm7g_0q80000gn/T/ipykernel_1506/3449095346.py\u001b[0m in \u001b[0;36m<module>\u001b[0;34m\u001b[0m\n\u001b[0;32m----> 1\u001b[0;31m \u001b[0monly_numbers\u001b[0m\u001b[0;34m(\u001b[0m\u001b[0;36m2\u001b[0m\u001b[0;34m)\u001b[0m\u001b[0;34m\u001b[0m\u001b[0;34m\u001b[0m\u001b[0m\n\u001b[0m",
      "\u001b[0;32m/var/folders/gw/zzdm1k1s4czgdmpvkm7g_0q80000gn/T/ipykernel_1506/3914166203.py\u001b[0m in \u001b[0;36monly_numbers\u001b[0;34m(better_be_a_number)\u001b[0m\n\u001b[1;32m      1\u001b[0m \u001b[0;32mdef\u001b[0m \u001b[0monly_numbers\u001b[0m\u001b[0;34m(\u001b[0m\u001b[0mbetter_be_a_number\u001b[0m\u001b[0;34m)\u001b[0m\u001b[0;34m:\u001b[0m\u001b[0;34m\u001b[0m\u001b[0;34m\u001b[0m\u001b[0m\n\u001b[0;32m----> 2\u001b[0;31m     \u001b[0;32massert\u001b[0m \u001b[0misinstance\u001b[0m\u001b[0;34m(\u001b[0m\u001b[0mbetter_be_a_number\u001b[0m\u001b[0;34m,\u001b[0m \u001b[0mfloat\u001b[0m \u001b[0;32mor\u001b[0m \u001b[0mint\u001b[0m\u001b[0;34m)\u001b[0m\u001b[0;34m\u001b[0m\u001b[0;34m\u001b[0m\u001b[0m\n\u001b[0m\u001b[1;32m      3\u001b[0m     \u001b[0mprint\u001b[0m\u001b[0;34m(\u001b[0m\u001b[0;34m\"I can confirm that this is a number: \"\u001b[0m\u001b[0;34m)\u001b[0m\u001b[0;34m\u001b[0m\u001b[0;34m\u001b[0m\u001b[0m\n\u001b[1;32m      4\u001b[0m     \u001b[0mprint\u001b[0m\u001b[0;34m(\u001b[0m\u001b[0mbetter_be_a_number\u001b[0m\u001b[0;34m)\u001b[0m\u001b[0;34m\u001b[0m\u001b[0;34m\u001b[0m\u001b[0m\n",
      "\u001b[0;31mAssertionError\u001b[0m: "
     ]
    }
   ],
   "source": [
    "only_numbers(2)"
   ]
  },
  {
   "cell_type": "code",
   "execution_count": 28,
   "id": "52c2e61f",
   "metadata": {},
   "outputs": [
    {
     "name": "stdout",
     "output_type": "stream",
     "text": [
      "I can confirm that this is a number: \n",
      "2.3\n"
     ]
    }
   ],
   "source": [
    "only_numbers(2.3)"
   ]
  },
  {
   "cell_type": "code",
   "execution_count": 32,
   "id": "75c2149d",
   "metadata": {},
   "outputs": [
    {
     "data": {
      "text/plain": [
       "float"
      ]
     },
     "execution_count": 32,
     "metadata": {},
     "output_type": "execute_result"
    }
   ],
   "source": [
    "float or int"
   ]
  },
  {
   "cell_type": "markdown",
   "id": "2abb48e5",
   "metadata": {},
   "source": [
    "## Debugging\n"
   ]
  },
  {
   "cell_type": "code",
   "execution_count": 36,
   "id": "bf471cc8",
   "metadata": {},
   "outputs": [
    {
     "name": "stdout",
     "output_type": "stream",
     "text": [
      "What number should I calculate the hailstone sequence of? 15\n",
      "15\n",
      "46\n",
      "23.0\n",
      "70.0\n",
      "35.0\n",
      "106.0\n",
      "53.0\n",
      "160.0\n",
      "80.0\n",
      "40.0\n",
      "20.0\n",
      "10.0\n",
      "5.0\n",
      "16.0\n",
      "8.0\n",
      "4.0\n",
      "2.0\n",
      "Took 17 steps to reach 1.\n"
     ]
    }
   ],
   "source": [
    "def is_even(num):\n",
    "    if num % 2 == 0:\n",
    "        return True\n",
    "    else:\n",
    "        return False\n",
    "\n",
    "num = int(input(\"What number should I calculate the hailstone sequence of? \"))\n",
    "count = 0\n",
    "\n",
    "while num != 1:\n",
    "    print(num)\n",
    "    #even case\n",
    "    if is_even(num): #CHANGED HERE TO ADD FUNCTION\n",
    "        num = num/2\n",
    "    else:\n",
    "        num = num*3+1\n",
    "    count += 1\n",
    "\n",
    "print(\"Took \" + str(count) + \" steps to reach 1.\")"
   ]
  },
  {
   "cell_type": "code",
   "execution_count": 39,
   "id": "2db7342c",
   "metadata": {},
   "outputs": [],
   "source": [
    "is_even(5)"
   ]
  },
  {
   "cell_type": "code",
   "execution_count": null,
   "id": "59e05159",
   "metadata": {},
   "outputs": [],
   "source": []
  }
 ],
 "metadata": {
  "kernelspec": {
   "display_name": "Python 3 (ipykernel)",
   "language": "python",
   "name": "python3"
  },
  "language_info": {
   "codemirror_mode": {
    "name": "ipython",
    "version": 3
   },
   "file_extension": ".py",
   "mimetype": "text/x-python",
   "name": "python",
   "nbconvert_exporter": "python",
   "pygments_lexer": "ipython3",
   "version": "3.9.1"
  },
  "toc": {
   "base_numbering": 1,
   "nav_menu": {},
   "number_sections": true,
   "sideBar": true,
   "skip_h1_title": false,
   "title_cell": "Table of Contents",
   "title_sidebar": "Contents",
   "toc_cell": false,
   "toc_position": {},
   "toc_section_display": true,
   "toc_window_display": false
  },
  "varInspector": {
   "cols": {
    "lenName": 16,
    "lenType": 16,
    "lenVar": 40
   },
   "kernels_config": {
    "python": {
     "delete_cmd_postfix": "",
     "delete_cmd_prefix": "del ",
     "library": "var_list.py",
     "varRefreshCmd": "print(var_dic_list())"
    },
    "r": {
     "delete_cmd_postfix": ") ",
     "delete_cmd_prefix": "rm(",
     "library": "var_list.r",
     "varRefreshCmd": "cat(var_dic_list()) "
    }
   },
   "types_to_exclude": [
    "module",
    "function",
    "builtin_function_or_method",
    "instance",
    "_Feature"
   ],
   "window_display": false
  }
 },
 "nbformat": 4,
 "nbformat_minor": 5
}
