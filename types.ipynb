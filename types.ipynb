{
 "cells": [
  {
   "cell_type": "markdown",
   "id": "c5ff03bd",
   "metadata": {},
   "source": [
    "# Types Lab\n",
    "\n",
    "In this lab we’ll explore the idea of functional programming and data types. So far, we've been thinking\n",
    "of functions as containers for our code, almost like a shortcut. For the turtle, functions just make the\n",
    "same kind of drawing happen.\n",
    "\n",
    "**In functional programming, we think of functions as transformations.** They take any number of *arguments* and they change them into a *return value*.\n",
    "\n",
    "Remember the structure of a Python function?"
   ]
  },
  {
   "cell_type": "code",
   "execution_count": null,
   "id": "dd14965e",
   "metadata": {},
   "outputs": [],
   "source": [
    "def double(number):\n",
    "    return 2 * number"
   ]
  },
  {
   "cell_type": "markdown",
   "id": "9dfd2492",
   "metadata": {},
   "source": [
    "Here, `number` is the *argument* and `2 * number` is the *return value*. As its name suggests, this function returns twice `number`.\n",
    "\n",
    "Since the `double()` function has a `return` statment, we expect the function to give us\n",
    "back something when we call it. In Jupyter notebooks, the return value of the last function\n",
    "in a cell will become the output of that cell."
   ]
  },
  {
   "cell_type": "code",
   "execution_count": null,
   "id": "06ca00e6",
   "metadata": {},
   "outputs": [],
   "source": [
    "double(3)"
   ]
  },
  {
   "cell_type": "markdown",
   "id": "fb70fc0d",
   "metadata": {},
   "source": [
    "Here is a visualization of the function `double()`. We are not so focused on how the function gets its work done as we are on what goes in and what comes out:\n",
    "\n",
    "![double() function visualization](images/double.png)\n",
    "\n",
    "This unlocks a powerful new way of breaking down problems: we can think about how functions could be connected together. How do you quadruple a number? Just double it, and then double the result:\n",
    "\n",
    "![quadruple() function visualization](images/quadruple.png)\n",
    "\n",
    "This might not seem like a very big deal. It’s too easy. But you will soon see that much more difficult problems can often be broken down into simpler functions by thinking about how each function transforms an input into an output."
   ]
  },
  {
   "cell_type": "markdown",
   "id": "71f5149c",
   "metadata": {},
   "source": [
    "💻 In the cell below, define a function `quadruple()` that takes in a number and returns that number quadrupled. Use the `double()` function from above."
   ]
  },
  {
   "cell_type": "code",
   "execution_count": null,
   "id": "7aefd69b",
   "metadata": {},
   "outputs": [],
   "source": [
    "# define the quadruple() function here\n"
   ]
  },
  {
   "cell_type": "markdown",
   "id": "3b80d80f",
   "metadata": {},
   "source": [
    "## Thinking about types\n",
    "But how can we talk precisely about what goes in to functions and what comes out? You have already met a bunch of different kinds of objects in Python: `1`, `2.55`, `True`, `\"red\"`, `None`. Each of these has a **type**. When we talk about what goes in to functions and what comes out, we won’t talk about particular inputs (who cares if you double `7` or `9`? The point is you can’t double `False`). We’ll talk about the types of objects that functions operate on. Everything has a type. Here are a few **types** that you already know:\n",
    "\n",
    "|   Type  |     Examples     |                                                            Description                                                            |\n",
    "|:-------:|:----------------:|:---------------------------------------------------------------------------------------------------------------------------------:|\n",
    "| `int`   | `145`, `-200`    | Integers, just like you know them from math class :)                                                                              |\n",
    "| `float` | `1.1115`, `9.08` | Decimal numbers. They’re called `float` because of [how they are stored](https://en.wikipedia.org/wiki/Floating-point_arithmetic) |\n",
    "| `str`   | `“apple”`, `“x”` | Strings, or sequences of characters. Careful! `5` is an `int` but `\"5\"` is a `str`.                                               |\n",
    "| `bool`  | `True`, `False`  | Booleans, or True/False values. Named for George Boole, who spent a lot of time thinking about them.                              |\n",
    "\n",
    "> **👾💬 FYI**\n",
    ">\n",
    "> Every type is also a function which turns its argument into that type, if it’s possible. So `int(3.33333)` becomes `3`, `str(True)` becomes `\"True\"`, and `bool(0)` becomes False. But `int(\"j\")` is an error, because there’s no sensible way to turn `\"j\"` into an `int`. Python’s attitude toward types is pretty casual; even if something is not quite the right type, we’ll make it work if we can. Other languages are much stricter, requiring every variable to specify its type, and requiring every function to specify what type it accepts and what type it returns. There are tradeoffs, and you’ll probably develop an opinion on which you prefer once you learn a few more programming languages."
   ]
  },
  {
   "cell_type": "markdown",
   "id": "472be334",
   "metadata": {},
   "source": [
    "✏️ Work with your group to fill in the following table. For each function describe what type the function would take as an input, and what type the function would return as output."
   ]
  },
  {
   "cell_type": "markdown",
   "id": "e6f7fb3b",
   "metadata": {},
   "source": [
    "*Edit the table by double clicking on this cell.*\n",
    "\n",
    "|                             Function                             | Input type(s) | Output type |\n",
    "|:----------------------------------------------------------------:|:-------------:|:-----------:|\n",
    "| Square root of a number                                          | float         | float       |\n",
    "| Multiplication of two integers                                   |               |             |\n",
    "| A function that gives all the factors of a number                |               |             |\n",
    "| A function to check if a word is a curse word                    |               |             |\n",
    "| A function that assigns a friendliness score to a sentence       |               |             |\n",
    "| A function that takes a website URL and returns the page content |               |             |\n",
    "| A function that counts the number of sentences in a paragraph    |               |             |\n",
    "| `>`                                                              |               |             |\n",
    "| `+`                                                              |               |             |"
   ]
  },
  {
   "cell_type": "markdown",
   "id": "747bc190",
   "metadata": {},
   "source": [
    "## Building sentences with grammar\n",
    "You already know how to simplify arithmetic expressions like `(2 + 10) / (5 - 2)` by applying functions:\n",
    "\n",
    "![Simplifying arithmetic expression](images/expression.png)\n",
    "\n",
    "In this lab, we’re going to think about language in the same way. Instead of functions like `add` and `subtract`, which combine numbers, we will use functions like `noun_phrase`, which combines words into parts of speech.\n",
    "\n",
    "![Grammar functions](images/grammar.png)\n",
    "\n",
    "Here’s an example of how we can use these functions to build a sentence. These functions are very strict about what kinds of inputs they accept, because we want to make sure we don’t create ill-formed sentences like “The my mouse hungry milk milk milk.”\n",
    "\n",
    "![Function diagram of \"The mean old cat dranl some milk.\"](images/old_cat.png)\n",
    "\n",
    "> **👾💬 FYI**\n",
    "> \n",
    "> Here's a text explanation of what's happening above if the diagram isn't making sense.\n",
    "> \n",
    "> The diagram above shows that the function `noun_phrase` combines an `Adjective` (“little”) and a `NounPhrase` (“mouse”) into another `NounPhrase` (“little mouse”). You could apply the same function again to build a bigger `NounPhrase` with another `Adjective` (“hungry little mouse”). `determine_noun_phrase` combines a `Determiner` with a `NounPhrase` to produce a `DeterminedNounPhrase`. Determiners are words like “a”, “the”, “my”, and “that”, which determine what the noun refers to. (Consider the difference between “a hungry little mouse” and “my hungry little mouse.\")\n",
    ">\n",
    "> `verb_phrase_transitive` combines a `TransitiveVerb` with a `NounPhrase` to produce a `VerbPhrase`. Verbs are action words, and transitive verbs are actions that have a subject and an object, something that acts and something that gets acted upon. For example, you can’t just “annoy,” you have to annoy someone or something. Same with “cancel” and “chase.” So to make a full `VerbPhrase`, we need to comine a `TransitiveVerb` with the `NounPhrase` it acts on.\n",
    ">\n",
    "> Finally, sentence makes a `Sentence` from a `NounPhrase` and a `VerbPhrase`. Your chewing sounds annoy my hungry little mouse.\n"
   ]
  },
  {
   "cell_type": "markdown",
   "id": "d665e6c6",
   "metadata": {},
   "source": [
    "### Checking types in Python\n",
    "In order to write these functions in Python, we will need to check the types of each function’s inputs. We will use the built-in functions `isinstance` and `type` to check types, and `assert` to intentionally crash the program when a function receives the wrong type.\n",
    "\n",
    "`isinstance(thing, a_type)` checks whether `thing` is `a_type`, returning `True` or `False`. Types exist in a hierarchy: `PluralNoun` is a special kind of `Noun`, and `Noun` is a special kind of `NounPhrase`. When you use `isinstance`, you are checking whether thing belongs to `a_type` or any of its subtypes. If you want to check whether thing's type exactly, use `type` to get its type. For example:"
   ]
  },
  {
   "cell_type": "code",
   "execution_count": null,
   "id": "84f65429",
   "metadata": {},
   "outputs": [],
   "source": [
    "from grammar import PluralNoun, Noun, NounPhrase, Adjective\n",
    "food = PluralNoun(\"potatoes\")"
   ]
  },
  {
   "cell_type": "code",
   "execution_count": null,
   "id": "f00bfad1",
   "metadata": {},
   "outputs": [],
   "source": [
    "isinstance(food, PluralNoun)"
   ]
  },
  {
   "cell_type": "code",
   "execution_count": null,
   "id": "252e9539",
   "metadata": {},
   "outputs": [],
   "source": [
    "isinstance(food, Noun)"
   ]
  },
  {
   "cell_type": "code",
   "execution_count": null,
   "id": "32a98f2b",
   "metadata": {},
   "outputs": [],
   "source": [
    "type(food)"
   ]
  },
  {
   "cell_type": "code",
   "execution_count": null,
   "id": "c8189fea",
   "metadata": {},
   "outputs": [],
   "source": [
    "type(food) == PluralNoun"
   ]
  },
  {
   "cell_type": "code",
   "execution_count": null,
   "id": "e233b84b",
   "metadata": {},
   "outputs": [],
   "source": [
    "type(food) == Noun"
   ]
  },
  {
   "cell_type": "markdown",
   "id": "94332c09",
   "metadata": {},
   "source": [
    "`assert condition` will do nothing if `condition` is `True`, but it will crash the program if condition is `False`. Try it out – Python will keep going after an error in interactive mode, but an uncaught error will crash a script."
   ]
  },
  {
   "cell_type": "code",
   "execution_count": null,
   "id": "68b2ceef",
   "metadata": {},
   "outputs": [],
   "source": [
    "assert 1 + 2 == 3"
   ]
  },
  {
   "cell_type": "code",
   "execution_count": null,
   "id": "523dc0ee",
   "metadata": {},
   "outputs": [],
   "source": [
    "assert 1 + 2 == 4"
   ]
  },
  {
   "cell_type": "code",
   "execution_count": null,
   "id": "95424e80",
   "metadata": {},
   "outputs": [],
   "source": [
    "assert isinstance(13, int)"
   ]
  },
  {
   "cell_type": "code",
   "execution_count": null,
   "id": "591bc42a",
   "metadata": {},
   "outputs": [],
   "source": [
    "assert isinstance(\"cowboy\", int)"
   ]
  },
  {
   "cell_type": "markdown",
   "id": "34a85645",
   "metadata": {},
   "source": [
    "With these tools, we can start writing grammar functions like the ones we saw above. For example:"
   ]
  },
  {
   "cell_type": "code",
   "execution_count": null,
   "id": "5622002b",
   "metadata": {},
   "outputs": [],
   "source": [
    "from grammar import Noun, NounPhrase, Adjective\n",
    "def noun_phrase(adjective, noun_phrase):\n",
    "    \"\"\"(Adjective, NounPhrase) -> NounPhrase\"\"\"\n",
    "    assert isinstance(adjective, Adjective)\n",
    "    assert isinstance(noun_phrase, NounPhrase)\n",
    "    return NounPhrase(adjective + ' ' + noun_phrase)"
   ]
  },
  {
   "cell_type": "code",
   "execution_count": null,
   "id": "9647b8aa",
   "metadata": {},
   "outputs": [],
   "source": [
    "adj = Adjective(\"red\")\n",
    "noun = Noun(\"pen\")\n",
    "noun_phrase(adj, noun)"
   ]
  },
  {
   "cell_type": "markdown",
   "id": "86c668a2",
   "metadata": {},
   "source": [
    "## Auto-poetry\n",
    "For this lab, things will work a little differently. In previous labs, all of the\n",
    "code that you've needed to write has been in one Jupyter Notebook. This is\n",
    "because the code has largely accomplished small, descrete tasks like calculating a sequence\n",
    "or drawing an icecream cone.\n",
    "\n",
    "For this lab, the code you will be working on will be part of a larger library of code\n",
    "that accomplishes a pretty large task: modeling English language poetry. This task\n",
    "contains code that spans 4 different files:\n",
    "\n",
    "- `grammar.py` has a bunch of functions for combining and transforming grammatical types. **These are unfinished; it’s your job to write them.**\n",
    "- `poetry.py` has functions for writing beautiful auto-poems. Once `grammar.py` is complete, you will be able to generate poems.\n",
    "- `vocabulary.py` has a bunch of functions for picking random words. This is explored in the extension activity.\n",
    "- `grammatical_types.py` defines types like `Noun`, `Adjective`, and `TransitiveVerb`. You won’t edit this file, but it is useful as a reference for parts of speech.\n",
    "\n",
    "\n",
    "As such, in this lab you will write your code in the `grammar.py` file in another browser window. However, \n",
    "since `grammar.py` is a regular Python script (`.py`) and not a Jupyter notebook (`.ipynb`), you will need to return\n",
    "to this Jupyter notebook in this window to run your code. The workflow will be as such:\n",
    "1. Read the description of your next task in this Jupyter notebook\n",
    "2. Write code to complete the task in the `grammar.py` file\n",
    "3. Run the cells to test the code you just wrote in this Jupyter notebook\n",
    "4. Return to `grammar.py` to fix any errors or bugs\n",
    "\n",
    "The following cells help import the functions from the files needed\n",
    "for the lab. **If you need to restart your Jupyter kernel, you'll\n",
    "need to re-run the cells below.**"
   ]
  },
  {
   "cell_type": "code",
   "execution_count": null,
   "id": "cfd55010",
   "metadata": {},
   "outputs": [],
   "source": [
    "%load_ext autoreload"
   ]
  },
  {
   "cell_type": "code",
   "execution_count": null,
   "id": "b5c5c5b2",
   "metadata": {},
   "outputs": [],
   "source": [
    "%autoreload 2"
   ]
  },
  {
   "cell_type": "markdown",
   "id": "0f9b1fb4",
   "metadata": {},
   "source": [
    "### Love poems\n",
    "We've completed the first task to get you started.\n",
    "\n",
    "💻 Open `grammar.py` in another window with the Jupyter home page. We recommend keeping these two windows \n",
    "open side-by-side if possible. \n",
    "\n",
    "The `grammar.py` file is full of functions which transform parts of speech.\n",
    "\n",
    "👀 Look at the first function, `pluralize()`:\n",
    "\n",
    "- The *docstring* (line 20) describes this function’s *type signature*, or what goes in and what comes out. `pluralize` receives a `Noun` and returns a `PluralNoun`.\n",
    "- Line 21 checks the input type. If it’s not a `Noun`, the program crashes.\n",
    "- Line 22 contains a conditional checking the final letters of the noun. Most English nouns are pluralized by adding “s” (“tree” becomes “trees”). But nouns ending in “s”, “ch”, or “sh” are pluralized by adding “es” (“beach” becomes “beaches”).\n",
    "- Lines 23 and 25 create a new `PluralNoun` using the appropriate ending. All the grammatical types are subclasses of `str`, so they can be combined like normal strings using the + operator.\n",
    "\n",
    "\n",
    "💻 Now open `poetry.py` in another window. Let’s look at `love_poem()` on line 5:\n",
    "- The docstring (line 6) says this function takes no inputs and returns a Poem.\n",
    "- `pluralize()` (line 10) is already finished, and it’s the only function other than `random_word()` (line 10) we’ll need. So this function will work!\n",
    "\n",
    "💭 See if you can predict what the `love_poem()` function will do.\n"
   ]
  },
  {
   "cell_type": "markdown",
   "id": "a597a88b",
   "metadata": {},
   "source": [
    "Let’s try it out! The first line of the cell below loads the functions from the poetry module. Then, the next line prints the return value of the `love_poem()` function you were just looking at.\n",
    "\n",
    "💻 Now let’s have some love poems!"
   ]
  },
  {
   "cell_type": "code",
   "execution_count": null,
   "id": "9ec0a7dc",
   "metadata": {},
   "outputs": [],
   "source": [
    "from poetry import love_poem\n",
    "\n",
    "print(love_poem())"
   ]
  },
  {
   "cell_type": "markdown",
   "id": "59b87520",
   "metadata": {},
   "source": [
    "### Couplet\n",
    "Before we can run `couplet`, the next kind of poem, we’ll need to implement a few more grammar rules in `grammar.py`. Your group will need to complete the following functions:\n",
    "\n",
    "- `noun_phrase()`\n",
    "- `determine_noun_phrase()`\n",
    "- `make_definite()`\n",
    "- `make_indefinite()`\n",
    "\n",
    "✏️ If it's helpful, create a function diagram like the ones included above with an example use case for each grammar rule before you start coding."
   ]
  },
  {
   "cell_type": "markdown",
   "id": "ccccedfb",
   "metadata": {},
   "source": [
    "#### 💻 noun_phrase\n",
    "\n",
    "For this function, you will need to do the following:\n",
    "- Check that the first argument is an `Adjective`.\n",
    "- Check that the second argument is a `NounPhrase`.\n",
    "- Return a `NounPhrase` containing the adjective added to the noun (don’t forget a space between them).\n",
    "\n",
    "Test using the cell below:"
   ]
  },
  {
   "cell_type": "code",
   "execution_count": null,
   "id": "ccf1ded7",
   "metadata": {},
   "outputs": [],
   "source": [
    "from grammar import noun_phrase, Adjective, Noun\n",
    "\n",
    "print(noun_phrase(Adjective(\"spooky\"), Noun(\"closet\")))"
   ]
  },
  {
   "cell_type": "markdown",
   "id": "fb982190",
   "metadata": {},
   "source": [
    "#### 💻 determine_noun_phrase\n",
    "\n",
    "For this function, you will need to do the following:\n",
    "- Check that the first argument is a `Determiner`.\n",
    "- Check that the second argument is a `NounPhrase`.\n",
    "- Return a `DeterminedNounPhrase` containing the determiner added to the noun phrase (again, don’t forget a space between them).\n",
    "\n",
    "Test using the cell below:"
   ]
  },
  {
   "cell_type": "code",
   "execution_count": null,
   "id": "2e393c11",
   "metadata": {},
   "outputs": [],
   "source": [
    "from grammar import determine_noun_phrase, Determiner, Noun\n",
    "\n",
    "print(determine_noun_phrase(Determiner(\"that\"), Noun(\"eagle\")))"
   ]
  },
  {
   "cell_type": "markdown",
   "id": "967b9f1b",
   "metadata": {},
   "source": [
    "#### 💻 make_definite\n",
    "\n",
    "For this function, you will need to do the following:\n",
    "- Check that the first argument is a `NounPhrase`.\n",
    "- Use `determine_noun_phrase()` to combine the noun phrase with `Determiner(\"the\")`.\n",
    "- Return the `DeterminedNounPhrase` you created.\n",
    "\n",
    "Test using the cell below:"
   ]
  },
  {
   "cell_type": "code",
   "execution_count": null,
   "id": "93785851",
   "metadata": {},
   "outputs": [],
   "source": [
    "from grammar import make_definite, NounPhrase\n",
    "\n",
    "print(make_definite(NounPhrase(\"evil squirrel\")))"
   ]
  },
  {
   "cell_type": "markdown",
   "id": "ab4dd0dd",
   "metadata": {},
   "source": [
    "#### 💻 make_indefinite\n",
    "\n",
    "For this function, you will need to do the following:\n",
    "- Check that the first argument is a `NounPhrase`.\n",
    "- Check whether the noun phrase starts with a vowel sound using `starts_with_vowel_sound()`. This function takes any string and returns `True` if it starts with a vowel sound and `False` if not.\n",
    "    - If so, use `Determiner(\"an\")`\n",
    "    - If not, use `Determiner(\"a\")`\n",
    "- Use `determine_noun_phrase()` to combine the noun phrase with the determiner.\n",
    "- Return the `DeterminedNounPhrase` you created.\n",
    "\n",
    "Test using the cells below:"
   ]
  },
  {
   "cell_type": "code",
   "execution_count": null,
   "id": "38abc129",
   "metadata": {},
   "outputs": [],
   "source": [
    "from grammar import make_indefinite, NounPhrase\n",
    "\n",
    "print(make_indefinite(NounPhrase(\"evil squirrel\")))"
   ]
  },
  {
   "cell_type": "code",
   "execution_count": null,
   "id": "78b35768",
   "metadata": {},
   "outputs": [],
   "source": [
    "from grammar import make_indefinite, NounPhrase\n",
    "\n",
    "print(make_indefinite(NounPhrase(\"squirrel\")))"
   ]
  },
  {
   "cell_type": "markdown",
   "id": "6418cb64",
   "metadata": {},
   "source": [
    "#### 💻 Make a couplet!\n",
    "\n",
    "Once these functions are finished, run the cell below to try out the `couplet()` function."
   ]
  },
  {
   "cell_type": "code",
   "execution_count": null,
   "id": "7b9a73ff",
   "metadata": {},
   "outputs": [],
   "source": [
    "from poetry import couplet\n",
    "\n",
    "print(couplet())"
   ]
  },
  {
   "cell_type": "markdown",
   "id": "43317718",
   "metadata": {},
   "source": [
    "### Limerick\n",
    "\n",
    "There’s one more kind of poem, a limerick. We’ll need to implement a few more grammar rules. Your group will need to complete the following functions:\n",
    "\n",
    "- `verb_phrase()`\n",
    "- `pase_tense_transitive()`\n",
    "- `past_tense_intrasitive()`\n",
    "- `verb_phrase_intrasitive()`\n",
    "\n",
    "✏️ If it's helpful, create a function diagram like the ones included above with an example use case for each grammar rule before you start coding."
   ]
  },
  {
   "cell_type": "markdown",
   "id": "99f21fef",
   "metadata": {},
   "source": [
    "#### 💻 verb_phrase\n",
    "\n",
    "For this function, you will need to do the following:\n",
    "- Check that the first argument is an `Adverb`.\n",
    "- Check that the second argument is a `VerbPhrase`.\n",
    "- Combine them into a `VerbPhrase`.\n",
    "- Return the `VerbPhrase` you created.\n",
    "\n",
    "Test using the cells below:"
   ]
  },
  {
   "cell_type": "code",
   "execution_count": null,
   "id": "9aa0cbc9",
   "metadata": {},
   "outputs": [],
   "source": [
    "from grammar import verb_phrase, Adverb, VerbPhrase\n",
    "\n",
    "\n",
    "print(verb_phrase(Adverb(\"easily\"), VerbPhrase(\"crushed her enemies\")))"
   ]
  },
  {
   "cell_type": "markdown",
   "id": "2c0bbfe8",
   "metadata": {},
   "source": [
    "#### 💻 past_tense_transitive\n",
    "\n",
    "For this function, you will need to do the following:\n",
    "- Check that the first argument is a `TransitiveVerb`. Make sure it’s not a `PastTenseTransitiveVerb` or you might accidentally conjugate a verb twice, resulting in something like “avoideded”.\n",
    "- Choose an appropriate ending to conjugate the verb in the past tense. If the verb ends in ‘e’, add ’d’. Otherwise, add ‘ed’.\n",
    "- This won’t work for irregular verbs (e.g. the past tense of ‘go’ is ‘went’), but let’s just ignore that for now. You can come back later and add logic for some irregular verbs if you’re feeling ambitious.\n",
    "- Return a `PastTenseTransitiveVerb` consisting of the verb plus its new ending.\n",
    "\n",
    "> **👾💬 FYI**\n",
    ">\n",
    "> You can access individual characters of a string, you can use\n",
    "> the variable holding the string followed by `[NUM]` where `NUM`\n",
    "> is the index of the character you want, starting at 0.\n",
    ">\n",
    "> See some examples below:"
   ]
  },
  {
   "cell_type": "code",
   "execution_count": null,
   "id": "8dbaedeb",
   "metadata": {},
   "outputs": [],
   "source": [
    "word  = \"hello\"\n",
    "word[1]"
   ]
  },
  {
   "cell_type": "code",
   "execution_count": null,
   "id": "0781741c",
   "metadata": {},
   "outputs": [],
   "source": [
    "word  = \"hello\"\n",
    "word[0]"
   ]
  },
  {
   "cell_type": "code",
   "execution_count": null,
   "id": "00816997",
   "metadata": {},
   "outputs": [],
   "source": [
    "# This also works in reverse! Use -1 to access the last character.\n",
    "word  = \"hello\"\n",
    "word[-1]"
   ]
  },
  {
   "cell_type": "markdown",
   "id": "960f5ac1",
   "metadata": {},
   "source": [
    "Test using the cells below:"
   ]
  },
  {
   "cell_type": "code",
   "execution_count": null,
   "id": "23e245fe",
   "metadata": {},
   "outputs": [],
   "source": [
    "from grammar import past_tense_transitive, TransitiveVerb\n",
    "\n",
    "print(past_tense_transitive(TransitiveVerb(\"avoid\")))"
   ]
  },
  {
   "cell_type": "code",
   "execution_count": null,
   "id": "e108994c",
   "metadata": {},
   "outputs": [],
   "source": [
    "from grammar import past_tense_transitive, TransitiveVerb\n",
    "\n",
    "print(past_tense_transitive(TransitiveVerb(\"inflate\")))"
   ]
  },
  {
   "cell_type": "code",
   "execution_count": null,
   "id": "dce78b0b",
   "metadata": {},
   "outputs": [],
   "source": [
    "from grammar import past_tense_transitive, PastTenseTransitiveVerb\n",
    "\n",
    "# This should raise an assertion\n",
    "print(past_tense_transitive(PastTenseTransitiveVerb(\"avoided\")))"
   ]
  },
  {
   "cell_type": "markdown",
   "id": "436131b1",
   "metadata": {},
   "source": [
    "#### 💻 past_tense_intransitive\n",
    "\n",
    "For this function, you will need to do the following:\n",
    "- Check that the first argument is an `IntransitiveVerb`. Again, make sure it’s not a `PastTenseIntransitiveVerb`.\n",
    "- Choose an appropriate ending to conjugate the verb in the past tense. If the verb ends in ‘e’, add ’d’. Otherwise, add ‘ed’. Again, don’t worry about irregular verbs. The English language has only itself to blame for this mess.\n",
    "- Return a `PastTenseIntransitiveVerb` consisting of the verb plus its new ending.\n",
    "\n",
    "Test using the cells below:"
   ]
  },
  {
   "cell_type": "code",
   "execution_count": null,
   "id": "df0a38cf",
   "metadata": {},
   "outputs": [],
   "source": [
    "from grammar import past_tense_intransitive, IntransitiveVerb\n",
    "\n",
    "print(past_tense_intransitive(IntransitiveVerb(\"molt\")))"
   ]
  },
  {
   "cell_type": "code",
   "execution_count": null,
   "id": "1d025a59",
   "metadata": {},
   "outputs": [],
   "source": [
    "from grammar import past_tense_intransitive, IntransitiveVerb\n",
    "\n",
    "print(past_tense_intransitive(IntransitiveVerb(\"agree\")))"
   ]
  },
  {
   "cell_type": "code",
   "execution_count": null,
   "id": "a67d972c",
   "metadata": {},
   "outputs": [],
   "source": [
    "from grammar import past_tense_intransitive, PastTenseIntransitiveVerb\n",
    "\n",
    "# This should raise an assertion\n",
    "print(past_tense_intransitive(PastTenseIntransitiveVerb(\"agreed\")))"
   ]
  },
  {
   "cell_type": "markdown",
   "id": "44d6883f",
   "metadata": {},
   "source": [
    "#### 💻 verb_phrase_transitive\n",
    "Intransitive verbs like “quit” are already verb phrases because they can form complete sentences (I quit). But transitive verbs like “take” need a noun phrase. You can’t just take, you have to take something.\n",
    "\n",
    "For this function, you will need to do the following:\n",
    "- Check that the first argument is a `TransitiveVerb`.\n",
    "- Check that the second argument is a `NounPhrase`.\n",
    "- Return a `VerbPhrase` consisting of the verb and the noun phrase.\n",
    "\n",
    "\n",
    "Test using the cells below:"
   ]
  },
  {
   "cell_type": "code",
   "execution_count": null,
   "id": "3fc8c1a1",
   "metadata": {},
   "outputs": [],
   "source": [
    "from grammar import past_tense_transitive, TransitiveVerb, make_definite, Adjective, Noun, verb_phrase_transitive, noun_phrase\n",
    "\n",
    "verb = past_tense_transitive(TransitiveVerb(\"transform\"))\n",
    "np = make_definite(noun_phrase(Adjective(\"evil\"), Noun(\"squirrel\")))\n",
    "print(verb_phrase_transitive(verb, np))"
   ]
  },
  {
   "cell_type": "markdown",
   "id": "aa4cad87",
   "metadata": {},
   "source": [
    "#### 💻 Make a limerick!\n",
    "\n",
    "Once these functions are finished, run the cell below to try out the `limerick()` function. Change out the parameters "
   ]
  },
  {
   "cell_type": "code",
   "execution_count": null,
   "id": "9ec182c0",
   "metadata": {},
   "outputs": [],
   "source": [
    "from poetry import  limerick\n",
    "name = \"Jan\"\n",
    "subject_pronoun = \"she\"\n",
    "print(limerick(name, subject_pronoun))"
   ]
  },
  {
   "cell_type": "markdown",
   "id": "d417c01b",
   "metadata": {},
   "source": [
    "### A New Kind of Generator\n",
    "\n",
    "Let’s take a look at poetry.py. Each poem is its own function utilizing the functions from `grammar.py`. The extension activity to create a new phrase generator of your creation. It can be anything from a haiku generator, to a compliement generater, to an insult generator. It’s up to you!\n",
    "\n",
    "💻 Create a new type of phrase generator by implementing the grammar rules in `grammar.py` and the random word functionality in `vocabulary.py`. Be sure to reference `poetry.py` for syntax and formatting tips.\n",
    "\n",
    "Read on below for more information about what's in `vocabulary.py`."
   ]
  },
  {
   "cell_type": "markdown",
   "id": "1a6b8234",
   "metadata": {},
   "source": [
    "#### Random Words\n",
    "Take a look at the functions provided in `vocabulary.py`. Try the following."
   ]
  },
  {
   "cell_type": "code",
   "execution_count": null,
   "id": "d96f2332",
   "metadata": {},
   "outputs": [],
   "source": [
    "from grammar import *\n",
    "from vocabulary import *"
   ]
  },
  {
   "cell_type": "code",
   "execution_count": null,
   "id": "42cda40e",
   "metadata": {},
   "outputs": [],
   "source": [
    "random_word(Noun)"
   ]
  },
  {
   "cell_type": "code",
   "execution_count": null,
   "id": "5d324911",
   "metadata": {},
   "outputs": [],
   "source": [
    "random_word(Noun, rhymes_with=\"soup\")"
   ]
  },
  {
   "cell_type": "code",
   "execution_count": null,
   "id": "e9fd9164",
   "metadata": {},
   "outputs": [],
   "source": [
    "random_word(Noun, syllables=6)"
   ]
  },
  {
   "cell_type": "code",
   "execution_count": null,
   "id": "7b3c7cb3",
   "metadata": {},
   "outputs": [],
   "source": [
    "random_word(Noun, count=3, meter=Meter(\"1020\"))"
   ]
  },
  {
   "cell_type": "code",
   "execution_count": null,
   "id": "37059243",
   "metadata": {},
   "outputs": [],
   "source": [
    "random_word(Noun, rhymes_with=\"orange\")"
   ]
  },
  {
   "cell_type": "markdown",
   "id": "b1361150",
   "metadata": {},
   "source": [
    "Whoa! `random_word()` is super powerful. Here is `random_word()`'s type signature:\n",
    "\n",
    "> **random_word**\n",
    ">\n",
    "> Returns one or more random words, matching the specified conditions.\n",
    "> \n",
    "> **Arguments**\n",
    "> \n",
    "> - **word_type** (*type*): Must be one of `Noun`, `TransitiveVerb`, `IntransitiveVerb`, `Adjective`, or `Adverb`.\n",
    "> - **count** (*int*): Optional. How many words you want. Normally, the result of `random_word` is a word of the requested type, but when `count` is provided, the result is a list of such words.\n",
    "> - **rhymes_with** (*string*): Optional. A word the result should rhyme with.\n",
    "> - **meter** (*Meter*): Optional. The pattern of stresses that should be in the result’s pronounciation. A *Meter* is a string of digits, where 1 represents a word’s main stress, 2 represents secondary stress, and 0 represents unstressed syllables. The meter used above, 1020, matches words whose sound is like “BUM-bah-Bum-bah.” Try saying ‘territory’, ‘storyteller’, and ‘motorcycle’ out loud. TERR-i-Tor-y, STOR-y-Tell-er, MO-tor-Cy-cle.\n",
    "> - **syllables** (*int*): Optional. The number of syllables that should be in the result.\n",
    ">\n",
    "> **Returns**\n",
    ">\n",
    "> - A word of `word_type`. If `count` is provided, returns a list of such words.\n"
   ]
  },
  {
   "cell_type": "markdown",
   "id": "0d3c0db5",
   "metadata": {},
   "source": [
    "#### Rhyming pairs"
   ]
  },
  {
   "cell_type": "code",
   "execution_count": null,
   "id": "9f83f575",
   "metadata": {},
   "outputs": [],
   "source": [
    "rhyming_pair(Noun, Adjective, meter=Meter(\"1020\"))"
   ]
  },
  {
   "cell_type": "code",
   "execution_count": null,
   "id": "91599723",
   "metadata": {},
   "outputs": [],
   "source": [
    "adj, noun = rhyming_pair(Noun, Adjective, syllables=2)\n",
    "print(adj)\n",
    "print(noun)"
   ]
  },
  {
   "cell_type": "markdown",
   "id": "63fc7d7c",
   "metadata": {},
   "source": [
    "> **rhyming_pair**\n",
    ">\n",
    "> Returns two rhyming words of the specified types.\n",
    "> \n",
    "> **Arguments**\n",
    "> \n",
    "> - **first_word_type** (*type*): Must be one of `Noun`, `TransitiveVerb`, `IntransitiveVerb`, `Adjective`, or `Adverb`.\n",
    "> - **second_word_type** (*type*): Must be one of `Noun`, `TransitiveVerb`, `IntransitiveVerb`, `Adjective`, or `Adverb`.\n",
    "> - **meter** (*Meter*): Optional. The pattern of stresses that should be in the result’s pronounciation.\n",
    "> - **syllables** (*int*): Optional. The number of syllables that should be in the result.\n",
    ">\n",
    "> **Returns**\n",
    ">\n",
    "> - Two words of *(first_word_type, second_word_type)*. See the example usage for how to capture each return value in a separate variable."
   ]
  },
  {
   "cell_type": "markdown",
   "id": "596ed4c8",
   "metadata": {},
   "source": [
    "#### Counting syllables"
   ]
  },
  {
   "cell_type": "code",
   "execution_count": null,
   "id": "dc2c0567",
   "metadata": {},
   "outputs": [],
   "source": [
    "count_syllables(\"bogus\")"
   ]
  },
  {
   "cell_type": "markdown",
   "id": "583c7723",
   "metadata": {},
   "source": [
    "> **count_syllables**\n",
    "> \n",
    "> **Arguments**\n",
    "> - word (*str*)\n",
    ">\n",
    "> **Returns**\n",
    ">\n",
    "> An *int*, the number of syllables\n"
   ]
  },
  {
   "cell_type": "markdown",
   "id": "5c8b577d",
   "metadata": {},
   "source": [
    "#### Getting meter"
   ]
  },
  {
   "cell_type": "code",
   "execution_count": null,
   "id": "27f7ad12",
   "metadata": {},
   "outputs": [],
   "source": [
    "get_meter(\"animal\")"
   ]
  },
  {
   "cell_type": "code",
   "execution_count": null,
   "id": "68e473a5",
   "metadata": {},
   "outputs": [],
   "source": [
    "get_meter(\"helicopter\")"
   ]
  },
  {
   "cell_type": "code",
   "execution_count": null,
   "id": "f9bdf2ac",
   "metadata": {},
   "outputs": [],
   "source": [
    "get_meter(\"inexcusable\")"
   ]
  },
  {
   "cell_type": "markdown",
   "id": "cbab1d89",
   "metadata": {},
   "source": [
    "> **get_meter**\n",
    ">\n",
    "> **Arguments**\n",
    "> - word(*str*)\n",
    ">\n",
    "> Returns\n",
    "> *Meter*, a string of digits representing stresses in the word’s pronunciation. `1` represents a word’s main stress, `2` represents secondary stress, and `0` represents unstressed syllables. The examples above show that the words are pronounced ‘A-ni-mal’ (‘100’), ‘HE-li-Cop-ter’ (‘1020’), and ‘In-ex-CUS-a-ble’ (‘20100’)."
   ]
  },
  {
   "cell_type": "markdown",
   "id": "0d73df6f",
   "metadata": {},
   "source": [
    "#### Vowel sounds"
   ]
  },
  {
   "cell_type": "code",
   "execution_count": null,
   "id": "1bbe496c",
   "metadata": {},
   "outputs": [],
   "source": [
    "starts_with_vowel_sound(\"horrible hounds\")"
   ]
  },
  {
   "cell_type": "code",
   "execution_count": null,
   "id": "fd49a9b5",
   "metadata": {},
   "outputs": [],
   "source": [
    "starts_with_vowel_sound(\"awesome owls\")"
   ]
  },
  {
   "cell_type": "markdown",
   "id": "1c329766",
   "metadata": {},
   "source": [
    "> **starts_with_vowel_sound**\n",
    ">\n",
    "> **Arguments**\n",
    "> - text (*str*)\n",
    ">\n",
    "> **Returns**\n",
    "> - *bool* `True` when the first word of text starts with a vowel sound. `False` otherwise."
   ]
  },
  {
   "cell_type": "code",
   "execution_count": null,
   "id": "7b0e10c0",
   "metadata": {},
   "outputs": [],
   "source": []
  }
 ],
 "metadata": {
  "kernelspec": {
   "display_name": "Python 3 (ipykernel)",
   "language": "python",
   "name": "python3"
  },
  "language_info": {
   "codemirror_mode": {
    "name": "ipython",
    "version": 3
   },
   "file_extension": ".py",
   "mimetype": "text/x-python",
   "name": "python",
   "nbconvert_exporter": "python",
   "pygments_lexer": "ipython3",
   "version": "3.9.1"
  },
  "toc": {
   "base_numbering": 1,
   "nav_menu": {},
   "number_sections": true,
   "sideBar": true,
   "skip_h1_title": false,
   "title_cell": "Table of Contents",
   "title_sidebar": "Contents",
   "toc_cell": false,
   "toc_position": {},
   "toc_section_display": true,
   "toc_window_display": false
  },
  "varInspector": {
   "cols": {
    "lenName": 16,
    "lenType": 16,
    "lenVar": 40
   },
   "kernels_config": {
    "python": {
     "delete_cmd_postfix": "",
     "delete_cmd_prefix": "del ",
     "library": "var_list.py",
     "varRefreshCmd": "print(var_dic_list())"
    },
    "r": {
     "delete_cmd_postfix": ") ",
     "delete_cmd_prefix": "rm(",
     "library": "var_list.r",
     "varRefreshCmd": "cat(var_dic_list()) "
    }
   },
   "types_to_exclude": [
    "module",
    "function",
    "builtin_function_or_method",
    "instance",
    "_Feature"
   ],
   "window_display": false
  }
 },
 "nbformat": 4,
 "nbformat_minor": 5
}
